{
 "cells": [
  {
   "cell_type": "code",
   "execution_count": 3,
   "id": "7cd68447",
   "metadata": {},
   "outputs": [
    {
     "data": {
      "text/plain": [
       "'\\nimport random\\n\\nguitar_fret=[]\\n\\nwhile len(guitar_fret)!= 10:\\n    k=random.randint(1,12)\\n    if k not in guitar_fret:\\n        guitar_fret.append(k)\\nprint(guitar_fret)\\n'"
      ]
     },
     "execution_count": 3,
     "metadata": {},
     "output_type": "execute_result"
    }
   ],
   "source": [
    "#简陋版随机生成器\n",
    "\"\"\"\n",
    "import random\n",
    "\n",
    "guitar_fret=[]\n",
    "\n",
    "while len(guitar_fret)!= 10:\n",
    "    k=random.randint(1,12)\n",
    "    if k not in guitar_fret:\n",
    "        guitar_fret.append(k)\n",
    "print(guitar_fret)\n",
    "\"\"\"        "
   ]
  },
  {
   "cell_type": "code",
   "execution_count": 7,
   "id": "0370e3de",
   "metadata": {},
   "outputs": [
    {
     "name": "stdout",
     "output_type": "stream",
     "text": [
      "What is the note on the  2  fret 3  string? Type '0' to exit\n",
      "0\n",
      "Good practice, keep it up man!\n"
     ]
    },
    {
     "data": {
      "text/plain": [
       "0"
      ]
     },
     "execution_count": 7,
     "metadata": {},
     "output_type": "execute_result"
    }
   ],
   "source": [
    "#指板音记忆训练\n",
    "import os\n",
    "import random\n",
    "\n",
    "#指板生成代码\n",
    "def guitar_fretboard_generate():\n",
    "    \n",
    "    #notes = [chr(n) for n in range(ord('A'), ord('G')+1)] 代码为生成A到G的字母序列 注意使用\n",
    "    \n",
    "    notes = ['A','Bb','B','C','Db','D','Eb','E','F','Gb','G','Ab']*2\n",
    "    \n",
    "    open_note = ['E','B','G','D','A','E']\n",
    "    \n",
    "    fretboard_notes=[]\n",
    "    \n",
    "    for i in range(6):\n",
    "        notes_index = notes.index(open_note[i],0,11)\n",
    "        string = [notes[k] for k in range(notes_index,notes_index+12)]*2               #生成每根弦12个音并*2获得一根弦前24个音\n",
    "        string.append(notes[notes_index])                                              #补上最后第24品\n",
    "        fretboard_notes.append(string)\n",
    "    \n",
    "    return fretboard_notes\n",
    "\n",
    "\n",
    "#训练代码\n",
    "guitar_fretboard = guitar_fretboard_generate()\n",
    "\n",
    "while True:\n",
    "    rand_note_fret = random.randint(0,24)\n",
    "    rand_note_str = random.randint(0,5)\n",
    "    target_note = guitar_fretboard[rand_note_str][rand_note_fret]\n",
    "    print('What is the note on the ',rand_note_fret,' fret',rand_note_str+1,' string? Type \\'0\\' to exit')\n",
    "    guess = input()\n",
    "    if guess == '0':\n",
    "        print('Good practice, keep it up man!')\n",
    "        break\n",
    "    while not guess.lower() == target_note.lower():\n",
    "        guess = input('Wrong answer, guess again? Or type in \\'n\\' to get the answer\\n')\n",
    "        if guess == 'n':\n",
    "            guess = target_note\n",
    "            print('The answer is ', target_note)\n",
    "    print('Great! Let\\'s see the next note\\n')\n",
    "\n",
    "os.system('pause')"
   ]
  },
  {
   "cell_type": "code",
   "execution_count": null,
   "id": "19ee6674",
   "metadata": {},
   "outputs": [],
   "source": []
  }
 ],
 "metadata": {
  "kernelspec": {
   "display_name": "Python 3",
   "language": "python",
   "name": "python3"
  },
  "language_info": {
   "codemirror_mode": {
    "name": "ipython",
    "version": 3
   },
   "file_extension": ".py",
   "mimetype": "text/x-python",
   "name": "python",
   "nbconvert_exporter": "python",
   "pygments_lexer": "ipython3",
   "version": "3.8.8"
  }
 },
 "nbformat": 4,
 "nbformat_minor": 5
}
